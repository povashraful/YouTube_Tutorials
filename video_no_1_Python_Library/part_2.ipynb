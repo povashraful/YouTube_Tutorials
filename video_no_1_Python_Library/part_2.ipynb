{
  "nbformat": 4,
  "nbformat_minor": 0,
  "metadata": {
    "colab": {
      "provenance": []
    },
    "kernelspec": {
      "name": "python3",
      "display_name": "Python 3"
    },
    "language_info": {
      "name": "python"
    }
  },
  "cells": [
    {
      "cell_type": "code",
      "source": [
        "class MyMath():\n",
        "    def find_even_odd(self, number):\n",
        "        if number %2 == 0:\n",
        "            print(\"This is an even number\")\n",
        "        else:\n",
        "            print(\"This is an odd number\")\n",
        "\n",
        "    def find_prime(self, number):\n",
        "        if number<=1:\n",
        "            return False\n",
        "        for i in range (2, number):\n",
        "            if number%i==0:\n",
        "                return False\n",
        "        return True\n",
        "\n",
        "    def addition(self, a, b):\n",
        "        return a+b\n",
        "\n",
        "\n"
      ],
      "metadata": {
        "id": "3yp8a61fo3Vk"
      },
      "execution_count": 7,
      "outputs": []
    },
    {
      "cell_type": "code",
      "source": [
        "find_num = MyMath()  # created an object of MyMath() class\n",
        "\n",
        "\n",
        "find_num.find_prime(1)\n",
        "find_num.find_prime(9)\n",
        "\n",
        "find_num.addition(10,11)\n",
        "find_num.addition(11,9)\n",
        "\n",
        "\n",
        "find_num.find_even_odd(1)\n",
        "find_num.find_even_odd(6)\n"
      ],
      "metadata": {
        "id": "pHx1ypimuKJ1",
        "colab": {
          "base_uri": "https://localhost:8080/"
        },
        "outputId": "0e38c4d5-bef9-4114-c730-3fe438b9dcfe"
      },
      "execution_count": 9,
      "outputs": [
        {
          "output_type": "execute_result",
          "data": {
            "text/plain": [
              "False"
            ]
          },
          "metadata": {},
          "execution_count": 9
        }
      ]
    }
  ]
}